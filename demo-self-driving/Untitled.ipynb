{
 "cells": [
  {
   "cell_type": "code",
   "execution_count": 1,
   "metadata": {},
   "outputs": [],
   "source": [
    "import pandas as pd"
   ]
  },
  {
   "cell_type": "code",
   "execution_count": 2,
   "metadata": {},
   "outputs": [
    {
     "name": "stdout",
     "output_type": "stream",
     "text": [
      "LICENSE                \u001b[34mcontent\u001b[m\u001b[m                waymo_da.zip\r\n",
      "NOTICES                \u001b[34mcontent 2\u001b[m\u001b[m              \u001b[34mwaymo_images\u001b[m\u001b[m\r\n",
      "Pipfile                instructions.md        waymo_images_1.zip\r\n",
      "README.md              mrcnn.csv              yolov3.cfg\r\n",
      "Untitled.ipynb         mrcnn_da.csv           yolov3.weights\r\n",
      "app.py                 waymo.csv\r\n",
      "av_final_optimized.gif \u001b[34mwaymo_da\u001b[m\u001b[m\r\n"
     ]
    }
   ],
   "source": [
    "!ls"
   ]
  },
  {
   "cell_type": "code",
   "execution_count": 4,
   "metadata": {
    "scrolled": true
   },
   "outputs": [
    {
     "name": "stdout",
     "output_type": "stream",
     "text": [
      "0.jpg   116.jpg 134.jpg 152.jpg 170.jpg 189.jpg 29.jpg  47.jpg  65.jpg  83.jpg\r\n",
      "1.jpg   117.jpg 135.jpg 153.jpg 171.jpg 19.jpg  3.jpg   48.jpg  66.jpg  84.jpg\r\n",
      "10.jpg  118.jpg 136.jpg 154.jpg 172.jpg 190.jpg 30.jpg  49.jpg  67.jpg  85.jpg\r\n",
      "100.jpg 119.jpg 137.jpg 155.jpg 173.jpg 191.jpg 31.jpg  5.jpg   68.jpg  86.jpg\r\n",
      "101.jpg 12.jpg  138.jpg 156.jpg 174.jpg 192.jpg 32.jpg  50.jpg  69.jpg  87.jpg\r\n",
      "102.jpg 120.jpg 139.jpg 157.jpg 175.jpg 193.jpg 33.jpg  51.jpg  7.jpg   88.jpg\r\n",
      "103.jpg 121.jpg 14.jpg  158.jpg 176.jpg 194.jpg 34.jpg  52.jpg  70.jpg  89.jpg\r\n",
      "104.jpg 122.jpg 140.jpg 159.jpg 177.jpg 195.jpg 35.jpg  53.jpg  71.jpg  9.jpg\r\n",
      "105.jpg 123.jpg 141.jpg 16.jpg  178.jpg 196.jpg 36.jpg  54.jpg  72.jpg  90.jpg\r\n",
      "106.jpg 124.jpg 142.jpg 160.jpg 179.jpg 197.jpg 37.jpg  55.jpg  73.jpg  91.jpg\r\n",
      "107.jpg 125.jpg 143.jpg 161.jpg 18.jpg  2.jpg   38.jpg  56.jpg  74.jpg  92.jpg\r\n",
      "108.jpg 126.jpg 144.jpg 162.jpg 180.jpg 20.jpg  39.jpg  57.jpg  75.jpg  93.jpg\r\n",
      "109.jpg 127.jpg 145.jpg 163.jpg 181.jpg 21.jpg  4.jpg   58.jpg  76.jpg  94.jpg\r\n",
      "11.jpg  128.jpg 146.jpg 164.jpg 182.jpg 22.jpg  40.jpg  59.jpg  77.jpg  95.jpg\r\n",
      "110.jpg 129.jpg 147.jpg 165.jpg 183.jpg 23.jpg  41.jpg  6.jpg   78.jpg  96.jpg\r\n",
      "111.jpg 13.jpg  148.jpg 166.jpg 184.jpg 24.jpg  42.jpg  60.jpg  79.jpg  97.jpg\r\n",
      "112.jpg 130.jpg 149.jpg 167.jpg 185.jpg 25.jpg  43.jpg  61.jpg  8.jpg   98.jpg\r\n",
      "113.jpg 131.jpg 15.jpg  168.jpg 186.jpg 26.jpg  44.jpg  62.jpg  80.jpg  99.jpg\r\n",
      "114.jpg 132.jpg 150.jpg 169.jpg 187.jpg 27.jpg  45.jpg  63.jpg  81.jpg\r\n",
      "115.jpg 133.jpg 151.jpg 17.jpg  188.jpg 28.jpg  46.jpg  64.jpg  82.jpg\r\n"
     ]
    }
   ],
   "source": [
    "!ls waymo_images"
   ]
  },
  {
   "cell_type": "code",
   "execution_count": 7,
   "metadata": {},
   "outputs": [],
   "source": [
    "pd.read_csv(\"mrcnn.csv\").drop(columns=['label_frame']).to_csv(\"mrcnn_output.csv\", index=False, header=False)"
   ]
  },
  {
   "cell_type": "code",
   "execution_count": 13,
   "metadata": {},
   "outputs": [],
   "source": [
    "df = pd.read_csv(\"mrcnn.csv\")\n",
    "\n",
    "df['label_frame'] = df['label_frame'].apply(lambda x: 'waymo_images/'+ str(x)+'.jpg')\n",
    "\n",
    "df.to_csv(\"mrcnn_output.csv\", index=False, header=False)"
   ]
  },
  {
   "cell_type": "code",
   "execution_count": 14,
   "metadata": {
    "scrolled": true
   },
   "outputs": [
    {
     "data": {
      "text/html": [
       "<div>\n",
       "<style scoped>\n",
       "    .dataframe tbody tr th:only-of-type {\n",
       "        vertical-align: middle;\n",
       "    }\n",
       "\n",
       "    .dataframe tbody tr th {\n",
       "        vertical-align: top;\n",
       "    }\n",
       "\n",
       "    .dataframe thead th {\n",
       "        text-align: right;\n",
       "    }\n",
       "</style>\n",
       "<table border=\"1\" class=\"dataframe\">\n",
       "  <thead>\n",
       "    <tr style=\"text-align: right;\">\n",
       "      <th></th>\n",
       "      <th>0</th>\n",
       "      <th>1</th>\n",
       "      <th>2</th>\n",
       "      <th>3</th>\n",
       "      <th>4</th>\n",
       "      <th>5</th>\n",
       "    </tr>\n",
       "  </thead>\n",
       "  <tbody>\n",
       "    <tr>\n",
       "      <th>0</th>\n",
       "      <td>waymo_images/0.jpg</td>\n",
       "      <td>293</td>\n",
       "      <td>650</td>\n",
       "      <td>430</td>\n",
       "      <td>726</td>\n",
       "      <td>vehicle</td>\n",
       "    </tr>\n",
       "    <tr>\n",
       "      <th>1</th>\n",
       "      <td>waymo_images/0.jpg</td>\n",
       "      <td>605</td>\n",
       "      <td>626</td>\n",
       "      <td>640</td>\n",
       "      <td>725</td>\n",
       "      <td>pedestrian</td>\n",
       "    </tr>\n",
       "    <tr>\n",
       "      <th>2</th>\n",
       "      <td>waymo_images/0.jpg</td>\n",
       "      <td>1304</td>\n",
       "      <td>672</td>\n",
       "      <td>1560</td>\n",
       "      <td>857</td>\n",
       "      <td>vehicle</td>\n",
       "    </tr>\n",
       "    <tr>\n",
       "      <th>3</th>\n",
       "      <td>waymo_images/0.jpg</td>\n",
       "      <td>1556</td>\n",
       "      <td>605</td>\n",
       "      <td>1629</td>\n",
       "      <td>718</td>\n",
       "      <td>pedestrian</td>\n",
       "    </tr>\n",
       "    <tr>\n",
       "      <th>4</th>\n",
       "      <td>waymo_images/0.jpg</td>\n",
       "      <td>1061</td>\n",
       "      <td>533</td>\n",
       "      <td>1266</td>\n",
       "      <td>722</td>\n",
       "      <td>vehicle</td>\n",
       "    </tr>\n",
       "    <tr>\n",
       "      <th>...</th>\n",
       "      <td>...</td>\n",
       "      <td>...</td>\n",
       "      <td>...</td>\n",
       "      <td>...</td>\n",
       "      <td>...</td>\n",
       "      <td>...</td>\n",
       "    </tr>\n",
       "    <tr>\n",
       "      <th>2688</th>\n",
       "      <td>waymo_images/197.jpg</td>\n",
       "      <td>1604</td>\n",
       "      <td>628</td>\n",
       "      <td>1639</td>\n",
       "      <td>683</td>\n",
       "      <td>pedestrian</td>\n",
       "    </tr>\n",
       "    <tr>\n",
       "      <th>2689</th>\n",
       "      <td>waymo_images/197.jpg</td>\n",
       "      <td>1886</td>\n",
       "      <td>245</td>\n",
       "      <td>1919</td>\n",
       "      <td>342</td>\n",
       "      <td>sign</td>\n",
       "    </tr>\n",
       "    <tr>\n",
       "      <th>2690</th>\n",
       "      <td>waymo_images/197.jpg</td>\n",
       "      <td>1632</td>\n",
       "      <td>92</td>\n",
       "      <td>1680</td>\n",
       "      <td>208</td>\n",
       "      <td>sign</td>\n",
       "    </tr>\n",
       "    <tr>\n",
       "      <th>2691</th>\n",
       "      <td>waymo_images/197.jpg</td>\n",
       "      <td>441</td>\n",
       "      <td>764</td>\n",
       "      <td>492</td>\n",
       "      <td>880</td>\n",
       "      <td>27</td>\n",
       "    </tr>\n",
       "    <tr>\n",
       "      <th>2692</th>\n",
       "      <td>waymo_images/197.jpg</td>\n",
       "      <td>870</td>\n",
       "      <td>599</td>\n",
       "      <td>921</td>\n",
       "      <td>622</td>\n",
       "      <td>vehicle</td>\n",
       "    </tr>\n",
       "  </tbody>\n",
       "</table>\n",
       "<p>2693 rows × 6 columns</p>\n",
       "</div>"
      ],
      "text/plain": [
       "                         0     1    2     3    4           5\n",
       "0       waymo_images/0.jpg   293  650   430  726     vehicle\n",
       "1       waymo_images/0.jpg   605  626   640  725  pedestrian\n",
       "2       waymo_images/0.jpg  1304  672  1560  857     vehicle\n",
       "3       waymo_images/0.jpg  1556  605  1629  718  pedestrian\n",
       "4       waymo_images/0.jpg  1061  533  1266  722     vehicle\n",
       "...                    ...   ...  ...   ...  ...         ...\n",
       "2688  waymo_images/197.jpg  1604  628  1639  683  pedestrian\n",
       "2689  waymo_images/197.jpg  1886  245  1919  342        sign\n",
       "2690  waymo_images/197.jpg  1632   92  1680  208        sign\n",
       "2691  waymo_images/197.jpg   441  764   492  880          27\n",
       "2692  waymo_images/197.jpg   870  599   921  622     vehicle\n",
       "\n",
       "[2693 rows x 6 columns]"
      ]
     },
     "execution_count": 14,
     "metadata": {},
     "output_type": "execute_result"
    }
   ],
   "source": [
    "pd.read_csv('mrcnn_output.csv', header=None)"
   ]
  },
  {
   "cell_type": "code",
   "execution_count": 16,
   "metadata": {},
   "outputs": [
    {
     "data": {
      "text/plain": [
       "array(['vehicle', 'pedestrian', 'sign', 'unknown', '75', '59', '63', '18',\n",
       "       '2', '35', '74', '37', '11', '25', '8', '14', '27'], dtype=object)"
      ]
     },
     "execution_count": 16,
     "metadata": {},
     "output_type": "execute_result"
    }
   ],
   "source": [
    "df.label_name.unique()"
   ]
  },
  {
   "cell_type": "code",
   "execution_count": null,
   "metadata": {},
   "outputs": [],
   "source": []
  }
 ],
 "metadata": {
  "kernelspec": {
   "display_name": "Python 3",
   "language": "python",
   "name": "python3"
  },
  "language_info": {
   "codemirror_mode": {
    "name": "ipython",
    "version": 3
   },
   "file_extension": ".py",
   "mimetype": "text/x-python",
   "name": "python",
   "nbconvert_exporter": "python",
   "pygments_lexer": "ipython3",
   "version": "3.7.3"
  }
 },
 "nbformat": 4,
 "nbformat_minor": 2
}
